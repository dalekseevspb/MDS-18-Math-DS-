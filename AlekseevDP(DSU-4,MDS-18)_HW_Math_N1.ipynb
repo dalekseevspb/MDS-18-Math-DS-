{
 "cells": [
  {
   "cell_type": "code",
   "execution_count": 1,
   "id": "b17c587c",
   "metadata": {},
   "outputs": [],
   "source": [
    "# Алексеев Д.П. (DSU-4,MDS-18)\n",
    "# Домашнее задание к лекции «Основные математические понятия» (#1)\n",
    "\n",
    "# 1) Даны векторы x = (1,1), y = (2, 0) и z = (0,2)\n",
    "# Необходимо в Python:\n",
    "# ● Изобразить векторы на экране\n",
    "# ● Изобразить точку x + y + z\n",
    "# ● Найти угол между векторами x и y\n",
    "\n",
    "# 2) Необходимо в Python:\n",
    "# ● Создайте матрицу 3 на 3, заполненную числами от 1 до 9\n",
    "# ● Прибавьте к ней матрицу с единицами на диагонали\n",
    "# ● Умножьте полученную матрицу на вектор (1, 2, 3)\n",
    "\n",
    "# 3) Необходимо в Python:\n",
    "# f(x) = 3x(x^2+x)^3  \n",
    "# примечание: формула f(x) в презентации отличается от формулы f(x) в вебинаре (в вебинаре: f(x) = (x^2+x)^3)\n",
    "\n",
    "# Посчитайте значение первой и второй производной функции\n",
    "# В точке x = 1\n"
   ]
  },
  {
   "cell_type": "code",
   "execution_count": 4,
   "id": "c8944190",
   "metadata": {},
   "outputs": [],
   "source": [
    "import numpy as np\n",
    "import matplotlib.pyplot as plt"
   ]
  },
  {
   "cell_type": "code",
   "execution_count": 12,
   "id": "c3b5a8d7",
   "metadata": {},
   "outputs": [],
   "source": [
    "# 1) Даны векторы x = (1,1), y = (2, 0) и z = (0,2)\n",
    "# Необходимо в Python:\n",
    "# ● Изобразить векторы на экране\n",
    "\n",
    "# зададим векторы x = (1,1), y = (2, 0) и z = (0,2)\n",
    "x = np.array([1, 1])\n",
    "y = np.array([2, 0])\n",
    "z = np.array([0, 2])\n",
    "\n",
    "# ● Изобразить точку x + y + z\n",
    "# посчитаем сперва сумму векторов\n",
    "sum_ = x + y + z"
   ]
  },
  {
   "cell_type": "code",
   "execution_count": 13,
   "id": "9be7801b",
   "metadata": {},
   "outputs": [
    {
     "data": {
      "image/png": "[encoded data removed]",
      "text/plain": [
       "<Figure size 432x288 with 1 Axes>"
      ]
     },
     "metadata": {
      "needs_background": "light"
     },
     "output_type": "display_data"
    }
   ],
   "source": [
    "# отобразим исходные векторы и сумму на одной плоскости\n",
    "plt.figure()\n",
    "plt.plot(x[0], x[1], 'b+') #синий плюс\n",
    "plt.plot(y[0], y[1], 'r*') #красная звездочка\n",
    "plt.plot(z[0], z[1], 'go') #зеленая точка\n",
    "plt.plot(sum_[0], sum_[1], 'ro') #красная точка\n",
    "plt.grid()\n",
    "plt.show()"
   ]
  },
  {
   "cell_type": "code",
   "execution_count": 17,
   "id": "8ad7c5f2",
   "metadata": {},
   "outputs": [
    {
     "data": {
      "text/plain": [
       "45.00000000000001"
      ]
     },
     "execution_count": 17,
     "metadata": {},
     "output_type": "execute_result"
    }
   ],
   "source": [
    "# ● Найти угол между векторами x и y\n",
    "np.rad2deg(np.arccos(np.dot(x, y)/(np.linalg.norm(x)*np.linalg.norm(y))))\n",
    "# ответ: угол между векторами x и y равен 45 градусов."
   ]
  },
  {
   "cell_type": "code",
   "execution_count": 19,
   "id": "85da05b0",
   "metadata": {},
   "outputs": [
    {
     "data": {
      "text/plain": [
       "array([[1, 2, 3],\n",
       "       [4, 5, 6],\n",
       "       [7, 8, 9]])"
      ]
     },
     "execution_count": 19,
     "metadata": {},
     "output_type": "execute_result"
    }
   ],
   "source": [
    "# 2) Необходимо в Python:\n",
    "# ● Создайте матрицу 3 на 3, заполненную числами от 1 до 9\n",
    "A1 = np.array([[1,2,3], [4,5,6], [7,8,9]])\n",
    "A1"
   ]
  },
  {
   "cell_type": "code",
   "execution_count": 20,
   "id": "a86c11f6",
   "metadata": {},
   "outputs": [
    {
     "data": {
      "text/plain": [
       "array([[1, 0, 0],\n",
       "       [0, 1, 0],\n",
       "       [0, 0, 1]])"
      ]
     },
     "execution_count": 20,
     "metadata": {},
     "output_type": "execute_result"
    }
   ],
   "source": [
    "# ● Прибавьте к ней матрицу с единицами на диагонали\n",
    "# сперва создадим матрицу с единицами на диагонали\n",
    "A2 = np.array([[1,0,0], [0,1,0], [0,0,1]])\n",
    "A2"
   ]
  },
  {
   "cell_type": "code",
   "execution_count": 25,
   "id": "69eeb632",
   "metadata": {},
   "outputs": [
    {
     "data": {
      "text/plain": [
       "array([[ 2,  2,  3],\n",
       "       [ 4,  6,  6],\n",
       "       [ 7,  8, 10]])"
      ]
     },
     "execution_count": 25,
     "metadata": {},
     "output_type": "execute_result"
    }
   ],
   "source": [
    "summ_A = A1 + A2\n",
    "summ_A"
   ]
  },
  {
   "cell_type": "code",
   "execution_count": 26,
   "id": "b795d8d5",
   "metadata": {},
   "outputs": [
    {
     "data": {
      "text/plain": [
       "array([1, 2, 3])"
      ]
     },
     "execution_count": 26,
     "metadata": {},
     "output_type": "execute_result"
    }
   ],
   "source": [
    "# ● Умножьте полученную матрицу на вектор (1, 2, 3)\n",
    "# сперва создадим вектор (1, 2, 3)\n",
    "x1 = np.array([1, 2, 3])\n",
    "x1"
   ]
  },
  {
   "cell_type": "code",
   "execution_count": 27,
   "id": "507443cc",
   "metadata": {},
   "outputs": [
    {
     "data": {
      "text/plain": [
       "array([[ 2,  4,  9],\n",
       "       [ 4, 12, 18],\n",
       "       [ 7, 16, 30]])"
      ]
     },
     "execution_count": 27,
     "metadata": {},
     "output_type": "execute_result"
    }
   ],
   "source": [
    "# обычное(поэлементное) перемножение матрицы на вектор:\n",
    "summ_A * x1"
   ]
  },
  {
   "cell_type": "code",
   "execution_count": 28,
   "id": "c93d9f07",
   "metadata": {},
   "outputs": [
    {
     "data": {
      "text/plain": [
       "array([15, 34, 53])"
      ]
     },
     "execution_count": 28,
     "metadata": {},
     "output_type": "execute_result"
    }
   ],
   "source": [
    "# перемножение матрицы на вектор на основе скалярных произведений:\n",
    "summ_A @ x1"
   ]
  },
  {
   "cell_type": "code",
   "execution_count": 35,
   "id": "e660f533",
   "metadata": {},
   "outputs": [],
   "source": [
    "# 3) Необходимо в Python:\n",
    "# f (x) = 3x(x^2+x)^3\n",
    "#примечание: формула f(x) в презентации отличается от формулы f(x) в вебинаре (в вебинаре: f(x) = (x^2+x)^3)\n",
    "\n",
    "# Посчитайте значение первой и второй производной функции\n",
    "# В точке x = 1\n",
    "import sympy as sym"
   ]
  },
  {
   "cell_type": "code",
   "execution_count": 39,
   "id": "1b11231e",
   "metadata": {},
   "outputs": [
    {
     "data": {
      "text/latex": [
       "$\\displaystyle 3 x \\left(x^{2} + x\\right)^{3}$"
      ],
      "text/plain": [
       "3*x*(x**2 + x)**3"
      ]
     },
     "execution_count": 39,
     "metadata": {},
     "output_type": "execute_result"
    }
   ],
   "source": [
    "# выведем формулу функции f(x) на экран в привычном виде\n",
    "x = sym.Symbol('x')\n",
    "3*x*(x**2+x)**3"
   ]
  },
  {
   "cell_type": "code",
   "execution_count": 41,
   "id": "d07c9649",
   "metadata": {},
   "outputs": [
    {
     "data": {
      "text/latex": [
       "$\\displaystyle 3 x \\left(6 x + 3\\right) \\left(x^{2} + x\\right)^{2} + 3 \\left(x^{2} + x\\right)^{3}$"
      ],
      "text/plain": [
       "3*x*(6*x + 3)*(x**2 + x)**2 + 3*(x**2 + x)**3"
      ]
     },
     "execution_count": 41,
     "metadata": {},
     "output_type": "execute_result"
    }
   ],
   "source": [
    "# вычислим формулу первой производной\n",
    "diff1 = sym.diff(3*x*(x**2+x)**3, x, 1)\n",
    "diff1"
   ]
  },
  {
   "cell_type": "code",
   "execution_count": 42,
   "id": "f8de085e",
   "metadata": {},
   "outputs": [
    {
     "data": {
      "text/latex": [
       "$\\displaystyle 132$"
      ],
      "text/plain": [
       "132"
      ]
     },
     "execution_count": 42,
     "metadata": {},
     "output_type": "execute_result"
    }
   ],
   "source": [
    "# рассчитаем значение первой производной в точке x = 1\n",
    "diff1.subs(x, 1)"
   ]
  },
  {
   "cell_type": "code",
   "execution_count": 43,
   "id": "7e05f865",
   "metadata": {},
   "outputs": [
    {
     "data": {
      "text/latex": [
       "$\\displaystyle 18 x^{2} \\left(x + 1\\right) \\left(x \\left(x + 1\\right) + \\left(x + 1\\right) \\left(2 x + 1\\right) + \\left(2 x + 1\\right)^{2}\\right)$"
      ],
      "text/plain": [
       "18*x**2*(x + 1)*(x*(x + 1) + (x + 1)*(2*x + 1) + (2*x + 1)**2)"
      ]
     },
     "execution_count": 43,
     "metadata": {},
     "output_type": "execute_result"
    }
   ],
   "source": [
    "# вычислим формулу второй производной\n",
    "diff2 = sym.diff(3*x*(x**2+x)**3, x, 2)\n",
    "diff2"
   ]
  },
  {
   "cell_type": "code",
   "execution_count": 44,
   "id": "80bcf52b",
   "metadata": {},
   "outputs": [
    {
     "data": {
      "text/latex": [
       "$\\displaystyle 612$"
      ],
      "text/plain": [
       "612"
      ]
     },
     "execution_count": 44,
     "metadata": {},
     "output_type": "execute_result"
    }
   ],
   "source": [
    "# рассчитаем значение второй производной в точке x = 1\n",
    "diff2.subs(x, 1)"
   ]
  }
 ],
 "metadata": {
  "kernelspec": {
   "display_name": "Python 3",
   "language": "python",
   "name": "python3"
  },
  "language_info": {
   "codemirror_mode": {
    "name": "ipython",
    "version": 3
   },
   "file_extension": ".py",
   "mimetype": "text/x-python",
   "name": "python",
   "nbconvert_exporter": "python",
   "pygments_lexer": "ipython3",
   "version": "3.8.8"
  }
 },
 "nbformat": 4,
 "nbformat_minor": 5
}
