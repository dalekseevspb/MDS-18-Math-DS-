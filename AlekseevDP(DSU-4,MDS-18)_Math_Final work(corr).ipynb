{
 "cells": [
  {
   "cell_type": "code",
   "execution_count": 1,
   "id": "b209837c",
   "metadata": {},
   "outputs": [],
   "source": [
    "# Алексеев Д.П. (DSU-4,MDS-18)\n",
    "# Итоговая работа (в задании №5 скорректирован расчет собств.векторов вручную; \n",
    "# в задании №1б пересчитаны косинусные сходства после сжатия матрицы признаков).\n",
    "\n",
    "# Задание 1\n",
    "# Дана матрица рейтингов фильмов (строки - пользователи (10 человек), столбцы - фильмы (15 фильмов))\n",
    "# a) Необходимо найти наиболее похожего пользователя по косинусной метрике для каждого из \n",
    "# (ответ: 10 пар вида (x, y), где y - наиболее похожий пользователь на пользователя x)."
   ]
  },
  {
   "cell_type": "code",
   "execution_count": 2,
   "id": "0f76d5da",
   "metadata": {},
   "outputs": [],
   "source": [
    "import numpy as np\n",
    "import matplotlib.pyplot as plt\n",
    "from numpy import linalg\n",
    "from scipy.optimize import minimize\n",
    "%matplotlib inline"
   ]
  },
  {
   "cell_type": "code",
   "execution_count": 3,
   "id": "52e86931",
   "metadata": {},
   "outputs": [],
   "source": [
    "ratings = np.array([[ 4,  4,  9,  4,  1,  6, 10,  7,  9,  6,  9,  2,  8,  6,  6],\n",
    "                     [ 9,  2,  5, 10,  7,  8, 10,  5,  6,  2,  1,  6,  8,  9,  7],\n",
    "                     [ 1,  6,  8,  8,  4,  9,  3,  8, 10,  5,  2,  6,  8,  1,  6],\n",
    "                     [ 6,  1,  9,  7,  7,  9,  2,  3,  5,  1,  6,  6,  3,  2,  7],\n",
    "                     [ 3,  7,  3,  5,  7,  9,  9,  6,  2,  9,  1,  2,  8, 10,  6],\n",
    "                     [ 8,  3,  7,  3,  8,  6,  1,  8,  8,  6,  1,  9,  4, 10,  1],\n",
    "                     [ 9,  8,  4,  8,  8, 10,  6,  1,  1,  2,  9,  5,  2,  7,  2],\n",
    "                     [ 4,  1,  6,  4,  3, 10,  4,  4,  2,  8,  7,  9,  3,  8,  3],\n",
    "                     [ 2,  7,  7,  6, 10,  6,  8,  9,  8,  6, 10,  1,  7, 10,  4],\n",
    "                     [ 5, 10,  8,  8,  9,  7,  2,  9,  9, 10,  8,  8,  8,  6, 10]])"
   ]
  },
  {
   "cell_type": "code",
   "execution_count": 4,
   "id": "0d19e0f3",
   "metadata": {},
   "outputs": [],
   "source": [
    "# определим функцию для расчета косинусного сходства между двумя векторами\n",
    "def cosine(a, b):\n",
    "    # определим длины векторов\n",
    "    a_len = np.linalg.norm(a)\n",
    "    b_len = np.linalg.norm(b)\n",
    "    # косинусным сходством будет являться частное от деления скалярного произведения векторов на произведение длин векторов\n",
    "    return np.dot(a,b) / (a_len*b_len)"
   ]
  },
  {
   "cell_type": "code",
   "execution_count": 5,
   "id": "f2ba6d2a",
   "metadata": {},
   "outputs": [],
   "source": [
    "# создадим матрицу для сохранения косинусных расстояний между векторами\n",
    "# (матрица будет квадратная 10х10, по количеству строк-векторов)\n",
    "cosine_dist = np.zeros((10,10))"
   ]
  },
  {
   "cell_type": "code",
   "execution_count": 6,
   "id": "c8944190",
   "metadata": {},
   "outputs": [
    {
     "data": {
      "text/plain": [
       "array([[0.        , 0.82602919, 0.84921529, 0.78340116, 0.81917632,\n",
       "        0.74118548, 0.72735828, 0.80967522, 0.91065982, 0.86010776],\n",
       "       [0.82602919, 0.        , 0.81234325, 0.84635337, 0.87138052,\n",
       "        0.82713107, 0.82629684, 0.80026003, 0.82526308, 0.81968127],\n",
       "       [0.84921529, 0.81234325, 0.        , 0.84669374, 0.78394299,\n",
       "        0.79097985, 0.67616223, 0.76289552, 0.82112077, 0.91873051],\n",
       "       [0.78340116, 0.84635337, 0.84669374, 0.        , 0.69153409,\n",
       "        0.78665792, 0.83274211, 0.82934667, 0.7770666 , 0.8588687 ],\n",
       "       [0.81917632, 0.87138052, 0.78394299, 0.69153409, 0.        ,\n",
       "        0.7764434 , 0.78200468, 0.81236869, 0.87948477, 0.84574789],\n",
       "       [0.74118548, 0.82713107, 0.79097985, 0.78665792, 0.7764434 ,\n",
       "        0.        , 0.74011801, 0.84451685, 0.80622876, 0.85514908],\n",
       "       [0.72735828, 0.82629684, 0.67616223, 0.83274211, 0.78200468,\n",
       "        0.74011801, 0.        , 0.82669174, 0.81130044, 0.79154718],\n",
       "       [0.80967522, 0.80026003, 0.76289552, 0.82934667, 0.81236869,\n",
       "        0.84451685, 0.82669174, 0.        , 0.7981276 , 0.83682229],\n",
       "       [0.91065982, 0.82526308, 0.82112077, 0.7770666 , 0.87948477,\n",
       "        0.80622876, 0.81130044, 0.7981276 , 0.        , 0.90093797],\n",
       "       [0.86010776, 0.81968127, 0.91873051, 0.8588687 , 0.84574789,\n",
       "        0.85514908, 0.79154718, 0.83682229, 0.90093797, 0.        ]])"
      ]
     },
     "execution_count": 6,
     "metadata": {},
     "output_type": "execute_result"
    }
   ],
   "source": [
    "# в цикле переберем строки массива и посчитаем косинусные расстояния между всеми векторами\n",
    "for i in range(len(ratings)):\n",
    "    vector_a = ratings[i]\n",
    "    for j in range(len(ratings)):\n",
    "        vector_b = ratings[j]\n",
    "        cosine_ = cosine(vector_a, vector_b)\n",
    "        if i==j: #обнулим сходство элементов на главной диагонали результирующей матрицы, \n",
    "            # чтобы они не участвовали в сравнении сами с собой (иначе их сходство будет равно максимальному, т.е 1.0)\n",
    "            cosine_ = 0 \n",
    "        cosine_dist[i][j] = cosine_\n",
    "        \n",
    "cosine_dist"
   ]
  },
  {
   "cell_type": "code",
   "execution_count": 7,
   "id": "9ef9dce1",
   "metadata": {},
   "outputs": [
    {
     "name": "stdout",
     "output_type": "stream",
     "text": [
      "Для пользователя 1 наиболее похожий пользователь: 9\n",
      "Для пользователя 2 наиболее похожий пользователь: 5\n",
      "Для пользователя 3 наиболее похожий пользователь: 10\n",
      "Для пользователя 4 наиболее похожий пользователь: 10\n",
      "Для пользователя 5 наиболее похожий пользователь: 9\n",
      "Для пользователя 6 наиболее похожий пользователь: 10\n",
      "Для пользователя 7 наиболее похожий пользователь: 4\n",
      "Для пользователя 8 наиболее похожий пользователь: 6\n",
      "Для пользователя 9 наиболее похожий пользователь: 1\n",
      "Для пользователя 10 наиболее похожий пользователь: 3\n"
     ]
    }
   ],
   "source": [
    "# теперь выведем ответ: 10 пар вида (x, y), где y - наиболее похожий пользователь на пользователя x\n",
    "for i in range(len(cosine_dist)):\n",
    "    print(\"Для пользователя\", i+1, \"наиболее похожий пользователь:\", np.argmax(cosine_dist[i])+1)"
   ]
  },
  {
   "cell_type": "code",
   "execution_count": 8,
   "id": "d3a2cf99",
   "metadata": {},
   "outputs": [
    {
     "data": {
      "text/plain": [
       "array([[-5.30986101,  1.92919845, -4.93300027,  2.70188013,  5.50497886],\n",
       "       [ 2.87763403,  2.71659559,  1.40592782,  7.26325751, -4.50322291],\n",
       "       [-4.94010408, -6.68861167, -0.94550184,  3.61556661, -0.68969272],\n",
       "       [ 5.14939908, -6.28027284, -4.65978558,  1.09024004, -1.01471112],\n",
       "       [-1.37488691,  7.54357985,  4.00834369,  2.1284001 , -0.16324949],\n",
       "       [ 2.65341956, -3.77075601,  8.58430748, -1.46628319,  1.67401769],\n",
       "       [ 8.61573944,  3.78603335, -4.02721027, -4.37582577, -3.13880277],\n",
       "       [ 5.39658258, -1.0170466 ,  1.01456742, -1.89512837,  6.54883538],\n",
       "       [-5.7843488 ,  5.29857107, -1.48083611, -3.71295542,  0.21312695],\n",
       "       [-7.2835739 , -3.51729118,  1.03318766, -5.34915166, -4.43127987]])"
      ]
     },
     "execution_count": 8,
     "metadata": {},
     "output_type": "execute_result"
    }
   ],
   "source": [
    "# b) Предположим, вы захотели сжать признаковые описания пользователя с 15 фильмов, до, \n",
    "# скажем, 5-ти признаков, как вы это сделаете?\n",
    "from sklearn.decomposition import PCA\n",
    "\n",
    "# поскольку все рейтинги находятся в одном диапазоне от 1 до 10, то StandardScaler можно не применять\n",
    "model = PCA(n_components = 5)\n",
    "PCA_ratings = model.fit_transform(ratings)\n",
    "PCA_ratings\n",
    "# в результате получилась матрица 10х5. Модель PCA сохранила 5 наиболее взаимосвязанных признаков."
   ]
  },
  {
   "cell_type": "code",
   "execution_count": 9,
   "id": "eacd330c",
   "metadata": {},
   "outputs": [
    {
     "data": {
      "text/plain": [
       "array([[ 0.        , -0.24000183,  0.27056025, -0.20807522,  0.08029467,\n",
       "        -0.6036918 , -0.42550604, -0.05494705,  0.4615916 , -0.11616049],\n",
       "       [-0.24000183,  0.        , -0.04995361,  0.04091688,  0.45211603,\n",
       "        -0.09170081,  0.10684882, -0.34632834, -0.38470728, -0.47019866],\n",
       "       [ 0.27056025, -0.04995361,  0.        ,  0.29551599, -0.48660118,\n",
       "        -0.02691552, -0.73510749, -0.39946332, -0.23643023,  0.43139369],\n",
       "       [-0.20807522,  0.04091688,  0.29551599,  0.        , -0.83613716,\n",
       "        -0.06282339,  0.34441028,  0.2481912 , -0.7236978 , -0.21235605],\n",
       "       [ 0.08029467,  0.45211603, -0.48660118, -0.83613716,  0.        ,\n",
       "        -0.01210698, -0.07983268, -0.20535141,  0.43384942, -0.24135105],\n",
       "       [-0.6036918 , -0.09170081, -0.02691552, -0.06282339, -0.01210698,\n",
       "         0.        , -0.21472612,  0.46098115, -0.4798575 ,  0.0301783 ],\n",
       "       [-0.42550604,  0.10684882, -0.73510749,  0.34441028, -0.07983268,\n",
       "        -0.21472612,  0.        ,  0.25797646, -0.08083406, -0.34637949],\n",
       "       [-0.05494705, -0.34632834, -0.39946332,  0.2481912 , -0.20535141,\n",
       "         0.46098115,  0.25797646,  0.        , -0.38234893, -0.56741096],\n",
       "       [ 0.4615916 , -0.38470728, -0.23643023, -0.7236978 ,  0.43384942,\n",
       "        -0.4798575 , -0.08083406, -0.38234893,  0.        ,  0.43336293],\n",
       "       [-0.11616049, -0.47019866,  0.43139369, -0.21235605, -0.24135105,\n",
       "         0.0301783 , -0.34637949, -0.56741096,  0.43336293,  0.        ]])"
      ]
     },
     "execution_count": 9,
     "metadata": {},
     "output_type": "execute_result"
    }
   ],
   "source": [
    "# пересчитаем матрицу косинусного сходства после сжатия матрицы признаков и посмотрим, что получилось\n",
    "\n",
    "# создадим матрицу для сохранения косинусных расстояний между векторами\n",
    "# (матрица будет квадратная 10х10, по количеству строк-векторов)\n",
    "cosine_dist = np.zeros((10,10))\n",
    "\n",
    "# в цикле переберем строки массива PCA_ratings и посчитаем косинусные расстояния между всеми векторами\n",
    "for i in range(len(PCA_ratings)):\n",
    "    vector_a = PCA_ratings[i]\n",
    "    for j in range(len(PCA_ratings)):\n",
    "        vector_b = PCA_ratings[j]\n",
    "        cosine_ = cosine(vector_a, vector_b)\n",
    "        if i==j: #обнулим сходство элементов на главной диагонали результирующей матрицы, \n",
    "            # чтобы они не участвовали в сравнении сами с собой (иначе их сходство будет равно максимальному, т.е 1.0)\n",
    "            cosine_ = 0 \n",
    "        cosine_dist[i][j] = cosine_\n",
    "        \n",
    "cosine_dist"
   ]
  },
  {
   "cell_type": "code",
   "execution_count": 10,
   "id": "5c4db920",
   "metadata": {},
   "outputs": [
    {
     "name": "stdout",
     "output_type": "stream",
     "text": [
      "Для пользователя 1 наиболее похожий пользователь: 9\n",
      "Для пользователя 2 наиболее похожий пользователь: 5\n",
      "Для пользователя 3 наиболее похожий пользователь: 10\n",
      "Для пользователя 4 наиболее похожий пользователь: 7\n",
      "Для пользователя 5 наиболее похожий пользователь: 2\n",
      "Для пользователя 6 наиболее похожий пользователь: 8\n",
      "Для пользователя 7 наиболее похожий пользователь: 4\n",
      "Для пользователя 8 наиболее похожий пользователь: 6\n",
      "Для пользователя 9 наиболее похожий пользователь: 1\n",
      "Для пользователя 10 наиболее похожий пользователь: 9\n"
     ]
    }
   ],
   "source": [
    "# теперь выведем ответ: 10 пар вида (x, y), где y - наиболее похожий пользователь на пользователя x\n",
    "for i in range(len(cosine_dist)):\n",
    "    print(\"Для пользователя\", i+1, \"наиболее похожий пользователь:\", np.argmax(cosine_dist[i])+1)"
   ]
  },
  {
   "cell_type": "code",
   "execution_count": null,
   "id": "492ec1e0",
   "metadata": {},
   "outputs": [],
   "source": [
    "# Для пользователя 1 наиболее похожий пользователь: 9 (было 9)\n",
    "# Для пользователя 2 наиболее похожий пользователь: 5 (было 5)\n",
    "# Для пользователя 3 наиболее похожий пользователь: 10 (было 10)\n",
    "# Для пользователя 4 наиболее похожий пользователь: 7 (было 10)\n",
    "# Для пользователя 5 наиболее похожий пользователь: 2 (было 9)\n",
    "# Для пользователя 6 наиболее похожий пользователь: 8 (было 10)\n",
    "# Для пользователя 7 наиболее похожий пользователь: 4 (было 4)\n",
    "# Для пользователя 8 наиболее похожий пользователь: 6 (было 6)\n",
    "# Для пользователя 9 наиболее похожий пользователь: 1 (было 1)\n",
    "# Для пользователя 10 наиболее похожий пользователь: 9 (было 3)\n",
    "\n",
    "# Вывод: примерно в половине случаев понижение размерности сохранило результат (картина сходства пользователей не изменилась)."
   ]
  },
  {
   "cell_type": "code",
   "execution_count": 9,
   "id": "b4811dc1",
   "metadata": {},
   "outputs": [],
   "source": [
    "# Задание 2.\n",
    "# Вычислите производную  𝑡𝑔(𝑠𝑖𝑛(𝑥))**2+𝑐𝑜𝑠(2𝑥+3))  в точке  𝑥0=1  (на python и на бумаге).\n",
    "import sympy as sym\n",
    "from sympy import sin,cos,tan"
   ]
  },
  {
   "cell_type": "code",
   "execution_count": 10,
   "id": "7db4ef0e",
   "metadata": {},
   "outputs": [
    {
     "data": {
      "text/latex": [
       "$\\displaystyle \\tan^{2}{\\left(\\sin{\\left(x \\right)} + \\cos{\\left(2 x + 3 \\right)} \\right)}$"
      ],
      "text/plain": [
       "tan(sin(x) + cos(2*x + 3))**2"
      ]
     },
     "execution_count": 10,
     "metadata": {},
     "output_type": "execute_result"
    }
   ],
   "source": [
    "# запишем функцию в привычном виде\n",
    "x = sym.Symbol('x')\n",
    "tan(sin(x) + cos(2*x+3))**2"
   ]
  },
  {
   "cell_type": "code",
   "execution_count": 11,
   "id": "b42454bc",
   "metadata": {},
   "outputs": [
    {
     "data": {
      "text/latex": [
       "$\\displaystyle 2 \\left(- 2 \\sin{\\left(2 x + 3 \\right)} + \\cos{\\left(x \\right)}\\right) \\left(\\tan^{2}{\\left(\\sin{\\left(x \\right)} + \\cos{\\left(2 x + 3 \\right)} \\right)} + 1\\right) \\tan{\\left(\\sin{\\left(x \\right)} + \\cos{\\left(2 x + 3 \\right)} \\right)}$"
      ],
      "text/plain": [
       "2*(-2*sin(2*x + 3) + cos(x))*(tan(sin(x) + cos(2*x + 3))**2 + 1)*tan(sin(x) + cos(2*x + 3))"
      ]
     },
     "execution_count": 11,
     "metadata": {},
     "output_type": "execute_result"
    }
   ],
   "source": [
    "diff1 = sym.diff(tan(sin(x) + cos(2*x+3))**2, x, 1)\n",
    "diff1"
   ]
  },
  {
   "cell_type": "code",
   "execution_count": 12,
   "id": "c852594e",
   "metadata": {},
   "outputs": [
    {
     "name": "stdout",
     "output_type": "stream",
     "text": [
      "2*(1 + tan(cos(5) + sin(1))**2)*(cos(1) - 2*sin(5))*tan(cos(5) + sin(1))\n",
      "Значение первой производной при x = 1:  55.386\n"
     ]
    }
   ],
   "source": [
    "# рассчитаем значение 1-ой производной в точке x = 1\n",
    "diff1_ = diff1.subs(x, 1)\n",
    "print(diff1_)\n",
    "print(\"Значение первой производной при x = 1: \", round(diff1_, 3))"
   ]
  },
  {
   "cell_type": "code",
   "execution_count": 13,
   "id": "7d3bcb6c",
   "metadata": {},
   "outputs": [],
   "source": [
    "# решение на бумаге разместил по ссылке:\n",
    "# https://drive.google.com/file/d/1EUkCln0s0XEc2jy7TA7t0IabCIetlkdZ/view?usp=sharing\n",
    "# в решении на бумаге значение производной при х=1 получилось равным 55,3551"
   ]
  },
  {
   "cell_type": "code",
   "execution_count": 13,
   "id": "0d0c16e5",
   "metadata": {},
   "outputs": [],
   "source": [
    "# Задание 3.\n",
    "# Дана функция с неизвестными параметрами a и b, вам также известны значения функции fx в точках x. \n",
    "# Найдите оптимальные параметры a, b, минимизирующие абсолютную ошибку error.\n",
    "def f(x, a, b):\n",
    "    return np.e**a * np.sin(b*x) + x"
   ]
  },
  {
   "cell_type": "code",
   "execution_count": 14,
   "id": "1164ca06",
   "metadata": {},
   "outputs": [],
   "source": [
    "x = np.array([0.        , 0.26315789, 0.52631579, 0.78947368, 1.05263158,\n",
    "              1.31578947, 1.57894737, 1.84210526, 2.10526316, 2.36842105,\n",
    "              2.63157895, 2.89473684, 3.15789474, 3.42105263, 3.68421053,\n",
    "              3.94736842, 4.21052632, 4.47368421, 4.73684211, 5.        ])"
   ]
  },
  {
   "cell_type": "code",
   "execution_count": 15,
   "id": "ecc38505",
   "metadata": {},
   "outputs": [],
   "source": [
    "fx = np.array([  0.        , -12.01819092, -18.90968634, -17.68786571,\n",
    "                -8.7529108 ,   4.27524517,  16.06801336,  21.81250213,\n",
    "                19.22059845,   9.48411207,  -3.22273056, -13.48576488,\n",
    "               -16.91096359, -11.95866834,  -0.58630088,  12.56873816,\n",
    "                22.12489421,  24.20292139,  18.04522521,   6.33211092])"
   ]
  },
  {
   "cell_type": "code",
   "execution_count": 16,
   "id": "f13ee949",
   "metadata": {},
   "outputs": [
    {
     "data": {
      "image/png": "[encoded data removed]",
      "text/plain": [
       "<Figure size 432x288 with 1 Axes>"
      ]
     },
     "metadata": {
      "needs_background": "light"
     },
     "output_type": "display_data"
    }
   ],
   "source": [
    "plt.plot(x, fx)\n",
    "plt.show()"
   ]
  },
  {
   "cell_type": "code",
   "execution_count": 17,
   "id": "63c24f84",
   "metadata": {},
   "outputs": [],
   "source": [
    "def error(params):\n",
    "    return np.sum(np.abs(fx - f(x, params[0], params[1])))"
   ]
  },
  {
   "cell_type": "code",
   "execution_count": 18,
   "id": "3782d0e8",
   "metadata": {},
   "outputs": [],
   "source": [
    "# зададим начальные параметры\n",
    "x0 = [17, 17]"
   ]
  },
  {
   "cell_type": "code",
   "execution_count": 19,
   "id": "3eb44a9b",
   "metadata": {},
   "outputs": [
    {
     "name": "stdout",
     "output_type": "stream",
     "text": [
      "Optimization terminated successfully.\n",
      "         Current function value: 0.000013\n",
      "         Iterations: 83\n",
      "         Function evaluations: 163\n"
     ]
    }
   ],
   "source": [
    "result = minimize(error, x0, method='nelder-mead', options={'xtol': 1e-8, 'disp': True})"
   ]
  },
  {
   "cell_type": "code",
   "execution_count": 20,
   "id": "e6b9457b",
   "metadata": {},
   "outputs": [
    {
     "data": {
      "text/plain": [
       "array([ 3.        , 21.37610417])"
      ]
     },
     "execution_count": 20,
     "metadata": {},
     "output_type": "execute_result"
    }
   ],
   "source": [
    "result.x\n",
    "# соответственно, оптимальные параметры: a = 3, b = 21.37610417"
   ]
  },
  {
   "cell_type": "code",
   "execution_count": 21,
   "id": "345c7a07",
   "metadata": {},
   "outputs": [
    {
     "data": {
      "image/png": "[encoded data removed]",
      "text/plain": [
       "<Figure size 432x288 with 1 Axes>"
      ]
     },
     "metadata": {
      "needs_background": "light"
     },
     "output_type": "display_data"
    }
   ],
   "source": [
    "# Для проверки подставим найденные параметры в функцию и наложим предсказанный график на тестовый.\n",
    "# Округлим параметр b до 21.4, т.к. иначе предсказанный график \"сольётся\" с заданным(тестовым). \n",
    "# Параметр 'a' оставим равным 3:\n",
    "plt.plot(x, f(x, result.x[0], 21.4)) # синий - предсказанный график\n",
    "plt.plot(x, fx, c='red') # красный - тестовый график на заданном массиве [x, fx]\n",
    "plt.show()"
   ]
  },
  {
   "cell_type": "code",
   "execution_count": 22,
   "id": "2a1b6602",
   "metadata": {},
   "outputs": [],
   "source": [
    "# Задание 4.\n",
    "# Создайте собственную дискретную случайную величину с 20 значениями. \n",
    "# Сгенерируйте 1000 выборок размера 50. \n",
    "# Посчитайте среднее для каждой выборки. \n",
    "# Постройте гистограмму распределения средних."
   ]
  },
  {
   "cell_type": "code",
   "execution_count": 24,
   "id": "4cb94586",
   "metadata": {},
   "outputs": [
    {
     "data": {
      "text/plain": [
       "array([74, 80, 57,  5, 49, 36, 61, 99, 75, 73, 64, 45, 62, 49, 85, 60, 21,\n",
       "       77, 57, 42])"
      ]
     },
     "execution_count": 24,
     "metadata": {},
     "output_type": "execute_result"
    }
   ],
   "source": [
    "# Создадим собственную дискретную случайную величину с 20 значениями.\n",
    "np.random.seed(21) # зафиксируем seed\n",
    "random_var = np.random.randint(1, 100, 20)\n",
    "random_var"
   ]
  },
  {
   "cell_type": "code",
   "execution_count": 25,
   "id": "cd7104f9",
   "metadata": {},
   "outputs": [],
   "source": [
    "sample_average = [];\n",
    "\n",
    "# Сгенерируем 1000 выборок размера 50\n",
    "for i in range(1000):\n",
    "    one_sample = [];\n",
    "    one_sample = np.random.choice(random_var, 50)\n",
    "    # Посчитаем среднее для каждой выборки и добавим в список средних величин\n",
    "    sample_average.append(one_sample.mean())"
   ]
  },
  {
   "cell_type": "code",
   "execution_count": 26,
   "id": "36af83eb",
   "metadata": {},
   "outputs": [
    {
     "data": {
      "image/png": "[encoded data removed]",
      "text/plain": [
       "<Figure size 432x288 with 1 Axes>"
      ]
     },
     "metadata": {
      "needs_background": "light"
     },
     "output_type": "display_data"
    }
   ],
   "source": [
    "# Построим гистограмму распределения средних.\n",
    "plt.figure()\n",
    "plt.hist(sample_average, bins=100)\n",
    "plt.show()\n",
    "# полученная гистограмма отражает нормальное распределение (в соответствии с Ц.П.Т.)"
   ]
  },
  {
   "cell_type": "code",
   "execution_count": 27,
   "id": "5f0f4bf1",
   "metadata": {},
   "outputs": [
    {
     "name": "stdout",
     "output_type": "stream",
     "text": [
      "[[1 4]\n",
      " [1 1]]\n"
     ]
    }
   ],
   "source": [
    "# Задание 5.\n",
    "# Найдите собственные значения и собственные вектора матрицы (на python и на бумаге):\n",
    "\n",
    "m = np.array([[1, 4],\n",
    "              [1, 1]])\n",
    "print(m)"
   ]
  },
  {
   "cell_type": "code",
   "execution_count": 28,
   "id": "d369b6a7",
   "metadata": {},
   "outputs": [
    {
     "data": {
      "text/plain": [
       "(array([ 3., -1.]),\n",
       " array([[ 0.89442719, -0.89442719],\n",
       "        [ 0.4472136 ,  0.4472136 ]]))"
      ]
     },
     "execution_count": 28,
     "metadata": {},
     "output_type": "execute_result"
    }
   ],
   "source": [
    "np.linalg.eig(m)"
   ]
  },
  {
   "cell_type": "code",
   "execution_count": 29,
   "id": "593929ba",
   "metadata": {},
   "outputs": [],
   "source": [
    "# ответ: \n",
    "# -собственные значения: [ 3., -1.]\n",
    "# -собственные вектора:\n",
    "# [[ 0.89442719, -0.89442719],\n",
    "#  [ 0.4472136 ,  0.4472136 ]]"
   ]
  },
  {
   "cell_type": "code",
   "execution_count": 30,
   "id": "e1c9954b",
   "metadata": {},
   "outputs": [],
   "source": [
    "# решение на бумаге переразместил по ссылке:\n",
    "# https://drive.google.com/file/d/1xGE2utr50Dm8X-pwV-q0wCh76ne90TYd/view?usp=sharing\n",
    "# -собственные значения совпали;\n",
    "# -собственные вектора: значения совпали по модулю, но не совпали знаки. \n",
    "# Я так понимаю, знаки зависят от произвольного значения \"x\", подставляемого в системы уравнений."
   ]
  }
 ],
 "metadata": {
  "kernelspec": {
   "display_name": "Python 3",
   "language": "python",
   "name": "python3"
  },
  "language_info": {
   "codemirror_mode": {
    "name": "ipython",
    "version": 3
   },
   "file_extension": ".py",
   "mimetype": "text/x-python",
   "name": "python",
   "nbconvert_exporter": "python",
   "pygments_lexer": "ipython3",
   "version": "3.8.8"
  }
 },
 "nbformat": 4,
 "nbformat_minor": 5
}
