{
 "cells": [
  {
   "cell_type": "code",
   "execution_count": null,
   "id": "b209837c",
   "metadata": {},
   "outputs": [],
   "source": [
    "# Алексеев Д.П. (DSU-4,MDS-18)\n",
    "# Домашнее задание к лекции «Линейная алгебра. Матрицы» (#2)\n",
    "\n",
    "# 1) Создайте случайную матрицу А1 размерностью 5 на 5\n",
    "# 2) Транспонируйте матрицу A1\n",
    "# 3) Найдите обратную матрицу для А1\n",
    "# 4) Создайте диагональную матрицу - поэлементно перемножив единичную\n",
    "# матрицу I и случайную матрицу A2 размерности 4 на 4\n",
    "# 5) Создайте нулевую матрицу размерности 3 на 3\n",
    "# 6) Для всех полученных матриц найдите: определитель, ранг и собственные\n",
    "# значения\n",
    "# 7) Проанализируйте результаты"
   ]
  },
  {
   "cell_type": "code",
   "execution_count": 1,
   "id": "c8944190",
   "metadata": {},
   "outputs": [],
   "source": [
    "import numpy as np"
   ]
  },
  {
   "cell_type": "code",
   "execution_count": 2,
   "id": "c3b5a8d7",
   "metadata": {},
   "outputs": [
    {
     "data": {
      "text/plain": [
       "array([[0.37454012, 0.95071431, 0.73199394, 0.59865848, 0.15601864],\n",
       "       [0.15599452, 0.05808361, 0.86617615, 0.60111501, 0.70807258],\n",
       "       [0.02058449, 0.96990985, 0.83244264, 0.21233911, 0.18182497],\n",
       "       [0.18340451, 0.30424224, 0.52475643, 0.43194502, 0.29122914],\n",
       "       [0.61185289, 0.13949386, 0.29214465, 0.36636184, 0.45606998]])"
      ]
     },
     "execution_count": 2,
     "metadata": {},
     "output_type": "execute_result"
    }
   ],
   "source": [
    "# 1) Создайте случайную матрицу А1 размерностью 5 на 5\n",
    "#зафиксируем состояние генератора случайных чисел, чтобы не пересчитывать каждый раз заново последующие пункты\n",
    "A1 = np.random.RandomState(seed=42).random((5,5)) \n",
    "A1"
   ]
  },
  {
   "cell_type": "code",
   "execution_count": 10,
   "id": "c4a88501",
   "metadata": {},
   "outputs": [
    {
     "data": {
      "text/plain": [
       "array([[0.37454012, 0.15599452, 0.02058449, 0.18340451, 0.61185289],\n",
       "       [0.95071431, 0.05808361, 0.96990985, 0.30424224, 0.13949386],\n",
       "       [0.73199394, 0.86617615, 0.83244264, 0.52475643, 0.29214465],\n",
       "       [0.59865848, 0.60111501, 0.21233911, 0.43194502, 0.36636184],\n",
       "       [0.15601864, 0.70807258, 0.18182497, 0.29122914, 0.45606998]])"
      ]
     },
     "execution_count": 10,
     "metadata": {},
     "output_type": "execute_result"
    }
   ],
   "source": [
    "# 2) Транспонируйте матрицу A1\n",
    "A1_trans = np.transpose(A1)\n",
    "A1_trans"
   ]
  },
  {
   "cell_type": "code",
   "execution_count": 9,
   "id": "26a76f61",
   "metadata": {},
   "outputs": [
    {
     "data": {
      "text/plain": [
       "array([[  364.60350483,   334.16789204,   -91.41631021,  -895.54602541,\n",
       "          -35.23406016],\n",
       "       [ -351.86538626,  -323.93604372,    89.07808984,   864.20754679,\n",
       "           35.93471989],\n",
       "       [  584.80763977,   538.00659297,  -146.16417479, -1436.8998493 ,\n",
       "          -59.51982157],\n",
       "       [ -234.80558669,  -217.08098236,    57.15090649,   582.66687482,\n",
       "           22.50116178],\n",
       "       [ -567.51216365,  -519.48181002,   143.11544206,  1389.49392418,\n",
       "           58.52220068]])"
      ]
     },
     "execution_count": 9,
     "metadata": {},
     "output_type": "execute_result"
    }
   ],
   "source": [
    "# 3) Найдите обратную матрицу для А1\n",
    "A1_inv = np.linalg.inv(A1)\n",
    "A1_inv"
   ]
  },
  {
   "cell_type": "code",
   "execution_count": 5,
   "id": "f6c3ac8b",
   "metadata": {},
   "outputs": [
    {
     "data": {
      "text/plain": [
       "array([[0.5881308 , 0.89771373, 0.89153073, 0.81583748],\n",
       "       [0.03588959, 0.69175758, 0.37868094, 0.51851095],\n",
       "       [0.65795147, 0.19385022, 0.2723164 , 0.71860593],\n",
       "       [0.78300361, 0.85032764, 0.77524489, 0.03666431]])"
      ]
     },
     "execution_count": 5,
     "metadata": {},
     "output_type": "execute_result"
    }
   ],
   "source": [
    "# 4) Создайте диагональную матрицу - поэлементно перемножив единичную\n",
    "# матрицу I и случайную матрицу A2 размерности 4 на 4\n",
    "\n",
    "A2 = np.random.RandomState(seed=20).random((4,4)) \n",
    "A2"
   ]
  },
  {
   "cell_type": "code",
   "execution_count": 6,
   "id": "f6af8422",
   "metadata": {},
   "outputs": [
    {
     "data": {
      "text/plain": [
       "array([[1., 0., 0., 0.],\n",
       "       [0., 1., 0., 0.],\n",
       "       [0., 0., 1., 0.],\n",
       "       [0., 0., 0., 1.]])"
      ]
     },
     "execution_count": 6,
     "metadata": {},
     "output_type": "execute_result"
    }
   ],
   "source": [
    "# создадим единичную матрицу\n",
    "I = np.eye(4)\n",
    "I"
   ]
  },
  {
   "cell_type": "code",
   "execution_count": 7,
   "id": "426b4d23",
   "metadata": {},
   "outputs": [
    {
     "data": {
      "text/plain": [
       "array([[0.5881308 , 0.        , 0.        , 0.        ],\n",
       "       [0.        , 0.69175758, 0.        , 0.        ],\n",
       "       [0.        , 0.        , 0.2723164 , 0.        ],\n",
       "       [0.        , 0.        , 0.        , 0.03666431]])"
      ]
     },
     "execution_count": 7,
     "metadata": {},
     "output_type": "execute_result"
    }
   ],
   "source": [
    "# создадим диагональную матрицу поэлементным перемножением\n",
    "Diag = I * A2\n",
    "Diag"
   ]
  },
  {
   "cell_type": "code",
   "execution_count": 16,
   "id": "e6070a98",
   "metadata": {},
   "outputs": [
    {
     "data": {
      "text/plain": [
       "array([[0., 0., 0.],\n",
       "       [0., 0., 0.],\n",
       "       [0., 0., 0.]])"
      ]
     },
     "execution_count": 16,
     "metadata": {},
     "output_type": "execute_result"
    }
   ],
   "source": [
    "# 5) Создайте нулевую матрицу размерности 3 на 3\n",
    "Null_ = np.zeros([3,3])\n",
    "Null_"
   ]
  },
  {
   "cell_type": "code",
   "execution_count": null,
   "id": "30dcea90",
   "metadata": {},
   "outputs": [],
   "source": [
    "# 6) Для всех полученных матриц найдите: определитель, ранг и собственные\n",
    "# значения.\n",
    "# 7) Проанализируйте результаты."
   ]
  },
  {
   "cell_type": "code",
   "execution_count": 11,
   "id": "91564600",
   "metadata": {},
   "outputs": [
    {
     "data": {
      "text/plain": [
       "5"
      ]
     },
     "execution_count": 11,
     "metadata": {},
     "output_type": "execute_result"
    }
   ],
   "source": [
    "# а) ранг:\n",
    "np.linalg.matrix_rank(A1)\n",
    "# ранг равен 5, т.к. это матрица случайных чисел, все векторы(строки) в ней уникальны"
   ]
  },
  {
   "cell_type": "code",
   "execution_count": 12,
   "id": "4f128609",
   "metadata": {},
   "outputs": [
    {
     "data": {
      "text/plain": [
       "5"
      ]
     },
     "execution_count": 12,
     "metadata": {},
     "output_type": "execute_result"
    }
   ],
   "source": [
    "np.linalg.matrix_rank(A1_trans)\n",
    "# ранг равен 5, т.к. это транспонированная матрица случайных чисел, все векторы(строки) в ней уникальны"
   ]
  },
  {
   "cell_type": "code",
   "execution_count": 13,
   "id": "186659bc",
   "metadata": {},
   "outputs": [
    {
     "data": {
      "text/plain": [
       "5"
      ]
     },
     "execution_count": 13,
     "metadata": {},
     "output_type": "execute_result"
    }
   ],
   "source": [
    "np.linalg.matrix_rank(A1_inv)\n",
    "# ранг равен 5, т.к. это обратная матрица к матрице из случайных чисел, все векторы(строки) в ней уникальны"
   ]
  },
  {
   "cell_type": "code",
   "execution_count": 19,
   "id": "222c4bde",
   "metadata": {},
   "outputs": [
    {
     "data": {
      "text/plain": [
       "4"
      ]
     },
     "execution_count": 19,
     "metadata": {},
     "output_type": "execute_result"
    }
   ],
   "source": [
    "np.linalg.matrix_rank(A2)\n",
    "# ранг равен 4, т.к. это матрица случайных чисел размером 4х4, все векторы(строки) в ней уникальны"
   ]
  },
  {
   "cell_type": "code",
   "execution_count": 18,
   "id": "570d7525",
   "metadata": {},
   "outputs": [
    {
     "data": {
      "text/plain": [
       "4"
      ]
     },
     "execution_count": 18,
     "metadata": {},
     "output_type": "execute_result"
    }
   ],
   "source": [
    "np.linalg.matrix_rank(I)\n",
    "# ранг равен 4, т.к. это единичная матрица, все векторы(строки) в ней уникальны"
   ]
  },
  {
   "cell_type": "code",
   "execution_count": 14,
   "id": "58ee6bb1",
   "metadata": {},
   "outputs": [
    {
     "data": {
      "text/plain": [
       "4"
      ]
     },
     "execution_count": 14,
     "metadata": {},
     "output_type": "execute_result"
    }
   ],
   "source": [
    "np.linalg.matrix_rank(Diag)\n",
    "# ранг равен 4, т.к. это диагональная матрица, полученная перемножением матрицы случайных чисел размером 4х4 на единичную.\n",
    "# Все векторы(строки) в ней уникальны"
   ]
  },
  {
   "cell_type": "code",
   "execution_count": 17,
   "id": "cd81dfde",
   "metadata": {},
   "outputs": [
    {
     "data": {
      "text/plain": [
       "0"
      ]
     },
     "execution_count": 17,
     "metadata": {},
     "output_type": "execute_result"
    }
   ],
   "source": [
    "np.linalg.matrix_rank(Null_)\n",
    "# ранг равен 0, т.к. ранг нулевой матрицы любого размера равен нулю."
   ]
  },
  {
   "cell_type": "code",
   "execution_count": 20,
   "id": "c733e4ad",
   "metadata": {},
   "outputs": [
    {
     "data": {
      "text/plain": [
       "-0.0001034597121343134"
      ]
     },
     "execution_count": 20,
     "metadata": {},
     "output_type": "execute_result"
    }
   ],
   "source": [
    "# б) определитель:\n",
    "np.linalg.det(A1)\n",
    "# определитель случайной матрицы (не совсем понятно, что именно анализировать)"
   ]
  },
  {
   "cell_type": "code",
   "execution_count": 21,
   "id": "7394249d",
   "metadata": {},
   "outputs": [
    {
     "data": {
      "text/plain": [
       "-0.00010345971213430477"
      ]
     },
     "execution_count": 21,
     "metadata": {},
     "output_type": "execute_result"
    }
   ],
   "source": [
    "np.linalg.det(A1_trans)\n",
    "# определитель транспонированной матрицы A1_trans равен определителю исходной матрицы A1"
   ]
  },
  {
   "cell_type": "code",
   "execution_count": 22,
   "id": "390fb4c7",
   "metadata": {},
   "outputs": [
    {
     "data": {
      "text/plain": [
       "-9665.59812868835"
      ]
     },
     "execution_count": 22,
     "metadata": {},
     "output_type": "execute_result"
    }
   ],
   "source": [
    "np.linalg.det(A1_inv)\n",
    "# определитель матрицы A1_inv, обратной от A1, равен (1 / определитель матрицы A1), \n",
    "# т.е. (1 / -0.0001034597121343134) = -9665.59812868835"
   ]
  },
  {
   "cell_type": "code",
   "execution_count": 23,
   "id": "9755f6c6",
   "metadata": {},
   "outputs": [
    {
     "data": {
      "text/plain": [
       "0.1287360122879459"
      ]
     },
     "execution_count": 23,
     "metadata": {},
     "output_type": "execute_result"
    }
   ],
   "source": [
    "np.linalg.det(A2)\n",
    "# определитель случайной матрицы (не совсем понятно, что именно анализировать)"
   ]
  },
  {
   "cell_type": "code",
   "execution_count": 24,
   "id": "22e1afe0",
   "metadata": {},
   "outputs": [
    {
     "data": {
      "text/plain": [
       "1.0"
      ]
     },
     "execution_count": 24,
     "metadata": {},
     "output_type": "execute_result"
    }
   ],
   "source": [
    "np.linalg.det(I)\n",
    "# определитель единичной матрицы равен единице"
   ]
  },
  {
   "cell_type": "code",
   "execution_count": 25,
   "id": "db69bcbb",
   "metadata": {},
   "outputs": [
    {
     "data": {
      "text/plain": [
       "0.004062048706093961"
      ]
     },
     "execution_count": 25,
     "metadata": {},
     "output_type": "execute_result"
    }
   ],
   "source": [
    "np.linalg.det(Diag)\n",
    "# определитель случайной диагональной матрицы (не совсем понятно, что именно анализировать)"
   ]
  },
  {
   "cell_type": "code",
   "execution_count": 26,
   "id": "f2e243f0",
   "metadata": {},
   "outputs": [
    {
     "data": {
      "text/plain": [
       "0.0"
      ]
     },
     "execution_count": 26,
     "metadata": {},
     "output_type": "execute_result"
    }
   ],
   "source": [
    "np.linalg.det(Null_)\n",
    "# определитель нулевой матрицы равен нулю"
   ]
  },
  {
   "cell_type": "code",
   "execution_count": 29,
   "id": "13737123",
   "metadata": {},
   "outputs": [
    {
     "data": {
      "text/plain": [
       "array([ 2.16629999e+00+0.j        , -3.34610340e-01+0.j        ,\n",
       "        1.59759579e-01+0.22516272j,  1.59759579e-01-0.22516272j,\n",
       "        1.87256342e-03+0.j        ])"
      ]
     },
     "execution_count": 29,
     "metadata": {},
     "output_type": "execute_result"
    }
   ],
   "source": [
    "# в) собственные значения:\n",
    "np.linalg.eigvals(A1)\n",
    "# собственные значения случайной матрицы A1 (не совсем понятно, что именно анализировать)"
   ]
  },
  {
   "cell_type": "code",
   "execution_count": 30,
   "id": "af6abc61",
   "metadata": {},
   "outputs": [
    {
     "data": {
      "text/plain": [
       "array([ 2.16629999e+00+0.j        , -3.34610340e-01+0.j        ,\n",
       "        1.59759579e-01+0.22516272j,  1.59759579e-01-0.22516272j,\n",
       "        1.87256342e-03+0.j        ])"
      ]
     },
     "execution_count": 30,
     "metadata": {},
     "output_type": "execute_result"
    }
   ],
   "source": [
    "np.linalg.eigvals(A1_trans)\n",
    "# так как определители матрицы A1 и её транспонированной матрицы A1_trans равны, \n",
    "# то и собственные числа матриц также равны"
   ]
  },
  {
   "cell_type": "code",
   "execution_count": 31,
   "id": "2e70b82b",
   "metadata": {},
   "outputs": [
    {
     "data": {
      "text/plain": [
       "array([ 5.34027307e+02+0.j        ,  2.09599447e+00+2.95406274j,\n",
       "        2.09599447e+00-2.95406274j, -2.98855080e+00+0.j        ,\n",
       "        4.61616582e-01+0.j        ])"
      ]
     },
     "execution_count": 31,
     "metadata": {},
     "output_type": "execute_result"
    }
   ],
   "source": [
    "np.linalg.eigvals(A1_inv)\n",
    "# собственные значения матрицы A1_inv, обратной к случайной матрице A1 (не совсем понятно, что именно анализировать)"
   ]
  },
  {
   "cell_type": "code",
   "execution_count": 32,
   "id": "a88e838c",
   "metadata": {},
   "outputs": [
    {
     "data": {
      "text/plain": [
       "array([ 2.21872814,  0.31815201, -0.26831661, -0.67969445])"
      ]
     },
     "execution_count": 32,
     "metadata": {},
     "output_type": "execute_result"
    }
   ],
   "source": [
    "np.linalg.eigvals(A2)\n",
    "# собственные значения случайной матрицы A2 (не совсем понятно, что именно анализировать)"
   ]
  },
  {
   "cell_type": "code",
   "execution_count": 33,
   "id": "cf040737",
   "metadata": {},
   "outputs": [
    {
     "data": {
      "text/plain": [
       "array([1., 1., 1., 1.])"
      ]
     },
     "execution_count": 33,
     "metadata": {},
     "output_type": "execute_result"
    }
   ],
   "source": [
    "np.linalg.eigvals(I)\n",
    "# собственные значения единичной матрицы представляют собой единичный вектор"
   ]
  },
  {
   "cell_type": "code",
   "execution_count": 34,
   "id": "271a1404",
   "metadata": {},
   "outputs": [
    {
     "data": {
      "text/plain": [
       "array([0.5881308 , 0.69175758, 0.2723164 , 0.03666431])"
      ]
     },
     "execution_count": 34,
     "metadata": {},
     "output_type": "execute_result"
    }
   ],
   "source": [
    "np.linalg.eigvals(Diag)\n",
    "# собственные значения случайной диагональной матрицы Diag (не совсем понятно, что именно анализировать)"
   ]
  },
  {
   "cell_type": "code",
   "execution_count": 35,
   "id": "199b6a8a",
   "metadata": {},
   "outputs": [
    {
     "data": {
      "text/plain": [
       "array([0., 0., 0.])"
      ]
     },
     "execution_count": 35,
     "metadata": {},
     "output_type": "execute_result"
    }
   ],
   "source": [
    "np.linalg.eigvals(Null_)\n",
    "# собственные значения нулевой матрицы представляют собой нулевой вектор"
   ]
  }
 ],
 "metadata": {
  "kernelspec": {
   "display_name": "Python 3",
   "language": "python",
   "name": "python3"
  },
  "language_info": {
   "codemirror_mode": {
    "name": "ipython",
    "version": 3
   },
   "file_extension": ".py",
   "mimetype": "text/x-python",
   "name": "python",
   "nbconvert_exporter": "python",
   "pygments_lexer": "ipython3",
   "version": "3.8.8"
  }
 },
 "nbformat": 4,
 "nbformat_minor": 5
}
