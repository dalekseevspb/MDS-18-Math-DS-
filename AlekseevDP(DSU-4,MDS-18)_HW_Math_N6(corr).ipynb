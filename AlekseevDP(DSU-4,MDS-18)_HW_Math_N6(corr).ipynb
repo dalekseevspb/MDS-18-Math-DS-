{
 "cells": [
  {
   "cell_type": "code",
   "execution_count": 1,
   "id": "b209837c",
   "metadata": {},
   "outputs": [],
   "source": [
    "# Алексеев Д.П. (DSU-4,MDS-18)\n",
    "# Домашнее задание к лекции «Теория оптимизации» (#6).\n",
    "# Исправлено определение функции Растригина.\n",
    "\n",
    "# Проведите вычислительный эксперимент - для заданной функции Растригина найдите среднее и минимальное значение \n",
    "# целевой функции по результатам 100 экспериментов, а также среднее число итераций \n",
    "# при случайных начальных условиях в диапазоне [-5;5]. \n",
    "# А=10.\n",
    "# Эксперимент выполнить для размерностей d = 2 и 4.  "
   ]
  },
  {
   "cell_type": "code",
   "execution_count": 1,
   "id": "c8944190",
   "metadata": {},
   "outputs": [],
   "source": [
    "import numpy as np"
   ]
  },
  {
   "cell_type": "code",
   "execution_count": 2,
   "id": "beff1fd8",
   "metadata": {},
   "outputs": [],
   "source": [
    "# определим функцию Растригина. Значение А=10 зафиксировано условиями задачи, поэтому его можно не передавать в виде аргумента.\n",
    "def rastrigin(x):\n",
    "    A = 10.0\n",
    "    y = sum(A + x**2 - A*np.cos(2*np.pi*x))\n",
    "    return y"
   ]
  },
  {
   "cell_type": "code",
   "execution_count": 3,
   "id": "30593ec6",
   "metadata": {},
   "outputs": [],
   "source": [
    "from scipy.optimize import minimize"
   ]
  },
  {
   "cell_type": "code",
   "execution_count": 4,
   "id": "c9750944",
   "metadata": {},
   "outputs": [],
   "source": [
    "# эксперимент для размерности d=2 (size=(2,))\n",
    "iterations_list = [];\n",
    "results_list = [];\n",
    "\n",
    "for i in range(100):\n",
    "    x0 = np.random.uniform(low=-5.0, high=5.0, size=(2,))\n",
    "    result = minimize(rastrigin, x0, method='nelder-mead', options={'xtol': 1e-8, 'disp': False})\n",
    "    \n",
    "    iterations_list.append(result.nit)\n",
    "    results_list.append(rastrigin(result.x))"
   ]
  },
  {
   "cell_type": "code",
   "execution_count": 5,
   "id": "eb9cdb19",
   "metadata": {},
   "outputs": [
    {
     "data": {
      "text/plain": [
       "15.799848477611958"
      ]
     },
     "execution_count": 5,
     "metadata": {},
     "output_type": "execute_result"
    }
   ],
   "source": [
    "# Среднее значение целевой функции для размерности d=2 \n",
    "np.mean(results_list)"
   ]
  },
  {
   "cell_type": "code",
   "execution_count": 6,
   "id": "b013576b",
   "metadata": {},
   "outputs": [
    {
     "data": {
      "text/plain": [
       "1.7763568394002505e-15"
      ]
     },
     "execution_count": 6,
     "metadata": {},
     "output_type": "execute_result"
    }
   ],
   "source": [
    "# Минимальное найденное значение целевой функции для размерности d=2 \n",
    "np.min(results_list)\n",
    "# Полученное значение 1.7763568394002505e-15, по сути, представляет собой \"машинный ноль\".\n",
    "# Т.е. оптимизация \"сошлась\" в точке глобального минимума функции Растригина."
   ]
  },
  {
   "cell_type": "code",
   "execution_count": 7,
   "id": "59a33283",
   "metadata": {},
   "outputs": [
    {
     "data": {
      "text/plain": [
       "61.59"
      ]
     },
     "execution_count": 7,
     "metadata": {},
     "output_type": "execute_result"
    }
   ],
   "source": [
    "# Среднее число итераций для размерности d=2 \n",
    "np.mean(iterations_list)"
   ]
  },
  {
   "cell_type": "code",
   "execution_count": 8,
   "id": "d3711412",
   "metadata": {},
   "outputs": [],
   "source": [
    "# эксперимент для размерности d=4 (size=(4,))\n",
    "iterations_list = [];\n",
    "results_list = [];\n",
    "\n",
    "for i in range(100):\n",
    "    x0 = np.random.uniform(low=-5.0, high=5.0, size=(4,))\n",
    "    result = minimize(rastrigin, x0, method='nelder-mead', options={'xtol': 1e-8, 'disp': False})\n",
    "    \n",
    "    iterations_list.append(result.nit)\n",
    "    results_list.append(rastrigin(result.x))"
   ]
  },
  {
   "cell_type": "code",
   "execution_count": 9,
   "id": "21fb31d6",
   "metadata": {},
   "outputs": [
    {
     "data": {
      "text/plain": [
       "34.96263748299707"
      ]
     },
     "execution_count": 9,
     "metadata": {},
     "output_type": "execute_result"
    }
   ],
   "source": [
    "# Среднее значение целевой функции для размерности d=4 \n",
    "np.mean(results_list)"
   ]
  },
  {
   "cell_type": "code",
   "execution_count": 10,
   "id": "c5a70bd7",
   "metadata": {},
   "outputs": [
    {
     "data": {
      "text/plain": [
       "4.974790247647382"
      ]
     },
     "execution_count": 10,
     "metadata": {},
     "output_type": "execute_result"
    }
   ],
   "source": [
    "# Минимальное найденное значение целевой функции для размерности d=4\n",
    "np.min(results_list)\n",
    "# на больших размерностях этот метод оптимизации выдал результат 4.974790247647382, \n",
    "# далекий от глобального минимума функции Растригина."
   ]
  },
  {
   "cell_type": "code",
   "execution_count": 11,
   "id": "e1e6ca2a",
   "metadata": {},
   "outputs": [
    {
     "data": {
      "text/plain": [
       "182.99"
      ]
     },
     "execution_count": 11,
     "metadata": {},
     "output_type": "execute_result"
    }
   ],
   "source": [
    "# Среднее число итераций для размерности d=4\n",
    "np.mean(iterations_list)"
   ]
  }
 ],
 "metadata": {
  "kernelspec": {
   "display_name": "Python 3",
   "language": "python",
   "name": "python3"
  },
  "language_info": {
   "codemirror_mode": {
    "name": "ipython",
    "version": 3
   },
   "file_extension": ".py",
   "mimetype": "text/x-python",
   "name": "python",
   "nbconvert_exporter": "python",
   "pygments_lexer": "ipython3",
   "version": "3.8.8"
  }
 },
 "nbformat": 4,
 "nbformat_minor": 5
}
