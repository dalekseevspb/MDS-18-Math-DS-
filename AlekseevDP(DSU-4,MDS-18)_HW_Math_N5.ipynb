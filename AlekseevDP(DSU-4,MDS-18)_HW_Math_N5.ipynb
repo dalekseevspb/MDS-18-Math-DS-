{
 "cells": [
  {
   "cell_type": "code",
   "execution_count": 1,
   "id": "b209837c",
   "metadata": {},
   "outputs": [],
   "source": [
    "# Алексеев Д.П. (DSU-4,MDS-18)\n",
    "# Домашнее задание к лекции «Математический анализ. Функции нескольких переменных» (#5).\n",
    "\n",
    "# Задание №1\n",
    "# Вычислить вектор градиента и матрицу Гессе для функции:\n",
    "# f(x) = 2*x1^3 - 3*x1*x2 + 2*x2*(x3^2) - (x2)^3\n",
    "# В точке M=(2,1,1)\n",
    "\n",
    "# Задание №2\n",
    "# Постройте трехмерный график функции:\n",
    "# f(x) = (x2)^2 - (x1)^2*(x2) + 2*(x1)*(x2)\n",
    "# А также график линий уровня с уровнями {1,5,10}"
   ]
  },
  {
   "cell_type": "code",
   "execution_count": 2,
   "id": "c8944190",
   "metadata": {},
   "outputs": [],
   "source": [
    "import numpy as np\n",
    "import matplotlib.pyplot as plt\n",
    "import sympy as sym"
   ]
  },
  {
   "cell_type": "code",
   "execution_count": 3,
   "id": "64456875",
   "metadata": {},
   "outputs": [
    {
     "data": {
      "text/latex": [
       "$\\displaystyle 2 x_{1}^{3} - 3 x_{1} x_{2} - x_{2}^{3} + 2 x_{2} x_{3}^{2}$"
      ],
      "text/plain": [
       "2*x1**3 - 3*x1*x2 - x2**3 + 2*x2*x3**2"
      ]
     },
     "execution_count": 3,
     "metadata": {},
     "output_type": "execute_result"
    }
   ],
   "source": [
    "# Задание №1\n",
    "# сперва выведем формулу функции f(x) на экран в привычном виде\n",
    "x1 = sym.Symbol('x1')\n",
    "x2 = sym.Symbol('x2')\n",
    "x3 = sym.Symbol('x3')\n",
    "2*x1**3 - 3*x1*x2 + 2*x2*x3**2 - x2**3"
   ]
  },
  {
   "cell_type": "code",
   "execution_count": 4,
   "id": "6c26a15c",
   "metadata": {},
   "outputs": [
    {
     "data": {
      "text/latex": [
       "$\\displaystyle 6 x_{1}^{2} - 3 x_{2}$"
      ],
      "text/plain": [
       "6*x1**2 - 3*x2"
      ]
     },
     "execution_count": 4,
     "metadata": {},
     "output_type": "execute_result"
    }
   ],
   "source": [
    "# для построения градиента вычислим 1-ые частные производные:\n",
    "# вычислим 1-ую частную производную по x1:\n",
    "diff1_x1 = sym.diff(2*x1**3 - 3*x1*x2 + 2*x2*x3**2 - x2**3, x1, 1)\n",
    "diff1_x1"
   ]
  },
  {
   "cell_type": "code",
   "execution_count": 5,
   "id": "3eb24744",
   "metadata": {},
   "outputs": [
    {
     "data": {
      "text/latex": [
       "$\\displaystyle - 3 x_{1} - 3 x_{2}^{2} + 2 x_{3}^{2}$"
      ],
      "text/plain": [
       "-3*x1 - 3*x2**2 + 2*x3**2"
      ]
     },
     "execution_count": 5,
     "metadata": {},
     "output_type": "execute_result"
    }
   ],
   "source": [
    "# вычислим 1-ую частную производную по x2:\n",
    "diff1_x2 = sym.diff(2*x1**3 - 3*x1*x2 + 2*x2*x3**2 - x2**3, x2, 1)\n",
    "diff1_x2"
   ]
  },
  {
   "cell_type": "code",
   "execution_count": 6,
   "id": "f0d8fc64",
   "metadata": {},
   "outputs": [
    {
     "data": {
      "text/latex": [
       "$\\displaystyle 4 x_{2} x_{3}$"
      ],
      "text/plain": [
       "4*x2*x3"
      ]
     },
     "execution_count": 6,
     "metadata": {},
     "output_type": "execute_result"
    }
   ],
   "source": [
    "# вычислим 1-ую частную производную по x3:\n",
    "diff1_x3 = sym.diff(2*x1**3 - 3*x1*x2 + 2*x2*x3**2 - x2**3, x3, 1)\n",
    "diff1_x3"
   ]
  },
  {
   "cell_type": "code",
   "execution_count": 7,
   "id": "84d475db",
   "metadata": {},
   "outputs": [
    {
     "data": {
      "text/plain": [
       "(6*x1**2 - 3*x2, -3*x1 - 3*x2**2 + 2*x3**2, 4*x2*x3)"
      ]
     },
     "execution_count": 7,
     "metadata": {},
     "output_type": "execute_result"
    }
   ],
   "source": [
    "# вектор градиента будет выглядеть как вектор 1-ых частных производных:\n",
    "diff1_x1, diff1_x2, diff1_x3"
   ]
  },
  {
   "cell_type": "code",
   "execution_count": 8,
   "id": "c88892af",
   "metadata": {},
   "outputs": [],
   "source": [
    "# в точке M=(2,1,1), т.е. при x1=2, x2=1, x3=1\n",
    "# вектор градиента будет равен:\n",
    "# (6*2^2 - 3*1, -3*2-3*1^2+2*1^2, 4*1*1) = (21, -7, 4)"
   ]
  },
  {
   "cell_type": "code",
   "execution_count": 9,
   "id": "ecf5a68c",
   "metadata": {},
   "outputs": [
    {
     "data": {
      "text/latex": [
       "$\\displaystyle 12 x_{1}$"
      ],
      "text/plain": [
       "12*x1"
      ]
     },
     "execution_count": 9,
     "metadata": {},
     "output_type": "execute_result"
    }
   ],
   "source": [
    "# для построения матрицы Гессе вычислим 2-ые частные производные:\n",
    "# вычислим 2-ую частную производную по x1:\n",
    "diff2_x1 = sym.diff(2*x1**3 - 3*x1*x2 + 2*x2*x3**2 - x2**3, x1, 2)\n",
    "diff2_x1"
   ]
  },
  {
   "cell_type": "code",
   "execution_count": 10,
   "id": "8c7f125c",
   "metadata": {},
   "outputs": [
    {
     "data": {
      "text/latex": [
       "$\\displaystyle - 6 x_{2}$"
      ],
      "text/plain": [
       "-6*x2"
      ]
     },
     "execution_count": 10,
     "metadata": {},
     "output_type": "execute_result"
    }
   ],
   "source": [
    "# вычислим 2-ую частную производную по x2:\n",
    "diff2_x2 = sym.diff(2*x1**3 - 3*x1*x2 + 2*x2*x3**2 - x2**3, x2, 2)\n",
    "diff2_x2"
   ]
  },
  {
   "cell_type": "code",
   "execution_count": 11,
   "id": "9d5d3e24",
   "metadata": {},
   "outputs": [
    {
     "data": {
      "text/latex": [
       "$\\displaystyle 4 x_{2}$"
      ],
      "text/plain": [
       "4*x2"
      ]
     },
     "execution_count": 11,
     "metadata": {},
     "output_type": "execute_result"
    }
   ],
   "source": [
    "# вычислим 2-ую частную производную по x3:\n",
    "diff2_x3 = sym.diff(2*x1**3 - 3*x1*x2 + 2*x2*x3**2 - x2**3, x3, 2)\n",
    "diff2_x3"
   ]
  },
  {
   "cell_type": "code",
   "execution_count": 12,
   "id": "fea607da",
   "metadata": {},
   "outputs": [
    {
     "data": {
      "text/plain": [
       "(12*x1, -6*x2, 4*x2)"
      ]
     },
     "execution_count": 12,
     "metadata": {},
     "output_type": "execute_result"
    }
   ],
   "source": [
    "# матрица Гессе будет выглядеть как вектор 2-ых частных производных:\n",
    "diff2_x1, diff2_x2, diff2_x3"
   ]
  },
  {
   "cell_type": "code",
   "execution_count": 13,
   "id": "ad1be8c3",
   "metadata": {},
   "outputs": [],
   "source": [
    "# в точке M=(2,1,1), т.е. при x1=2, x2=1, x3=1\n",
    "# матрица Гессе будет равна:\n",
    "# (12*2, -6*1, 4*1) = (24, -6, 4)"
   ]
  },
  {
   "cell_type": "code",
   "execution_count": 14,
   "id": "7cc99009",
   "metadata": {},
   "outputs": [],
   "source": [
    "# Задание №2\n",
    "# Постройте трехмерный график функции:\n",
    "# f(x) = (x2)^2 - (x1)^2*(x2) + 2*(x1)*(x2)\n",
    "# А также график линий уровня с уровнями {1,5,10}\n",
    "from mpl_toolkits.mplot3d import Axes3D\n",
    "from matplotlib import cm\n",
    "from matplotlib.ticker import LinearLocator, FormatStrFormatter"
   ]
  },
  {
   "cell_type": "code",
   "execution_count": 15,
   "id": "76b17907",
   "metadata": {},
   "outputs": [
    {
     "data": {
      "text/latex": [
       "$\\displaystyle - x_{1}^{2} x_{2} + 2 x_{1} x_{2} + x_{2}^{2}$"
      ],
      "text/plain": [
       "-x1**2*x2 + 2*x1*x2 + x2**2"
      ]
     },
     "execution_count": 15,
     "metadata": {},
     "output_type": "execute_result"
    }
   ],
   "source": [
    "# сперва выведем формулу функции f(x) на экран в привычном виде\n",
    "x1 = sym.Symbol('x1')\n",
    "x2 = sym.Symbol('x2')\n",
    "x3 = sym.Symbol('x3')\n",
    "x2**2 - x1**2*x2 + 2*x1*x2"
   ]
  },
  {
   "cell_type": "code",
   "execution_count": 16,
   "id": "91512971",
   "metadata": {},
   "outputs": [
    {
     "data": {
      "image/png": "[encoded data removed]",
      "text/plain": [
       "<Figure size 432x288 with 2 Axes>"
      ]
     },
     "metadata": {
      "needs_background": "light"
     },
     "output_type": "display_data"
    }
   ],
   "source": [
    "fig = plt.figure()\n",
    "ax = fig.gca(projection='3d')\n",
    "\n",
    "# заполним данные для построения \n",
    "x1 = np.arange(-11, 11.25, 0.25)\n",
    "x2 = np.arange(-11, 11.25, 0.25)\n",
    "x1, x2 = np.meshgrid(x1, x2)\n",
    "Z = x2**2 - (x1**2)*x2 + 2*x1*x2\n",
    "\n",
    "# построим поверхность\n",
    "surf = ax.plot_surface(x1, x2, Z, cmap=cm.coolwarm, \n",
    "                       linewidth=10, antialiased=False, alpha=0.9)\n",
    "\n",
    "# настройки оси Z\n",
    "ax.set_zlim(-1500, 1700.0)\n",
    "ax.zaxis.set_major_locator(LinearLocator(5))\n",
    "ax.zaxis.set_major_formatter(FormatStrFormatter('%02.f'))\n",
    "\n",
    "# добавим легенду\n",
    "fig.colorbar(surf, shrink=0.5, aspect=5)\n",
    "\n",
    "ax.azim = 70\n",
    "ax.dist = 10\n",
    "ax.elev = 20\n",
    "\n",
    "plt.show()"
   ]
  },
  {
   "cell_type": "code",
   "execution_count": 17,
   "id": "262bb58f",
   "metadata": {},
   "outputs": [
    {
     "data": {
      "image/png": "[encoded data removed]",
      "text/plain": [
       "<Figure size 432x288 with 1 Axes>"
      ]
     },
     "metadata": {
      "needs_background": "light"
     },
     "output_type": "display_data"
    }
   ],
   "source": [
    "# Построим график линий уровня с уровнями {1,5,10}\n",
    "fig, ax = plt.subplots();\n",
    "CS = ax.contour(Z,1);\n",
    "CS = ax.contour(Z,5);\n",
    "CS = ax.contour(Z,10);\n",
    "ax.clabel(CS,inline=True, fontsize=8);"
   ]
  }
 ],
 "metadata": {
  "kernelspec": {
   "display_name": "Python 3",
   "language": "python",
   "name": "python3"
  },
  "language_info": {
   "codemirror_mode": {
    "name": "ipython",
    "version": 3
   },
   "file_extension": ".py",
   "mimetype": "text/x-python",
   "name": "python",
   "nbconvert_exporter": "python",
   "pygments_lexer": "ipython3",
   "version": "3.8.8"
  }
 },
 "nbformat": 4,
 "nbformat_minor": 5
}
